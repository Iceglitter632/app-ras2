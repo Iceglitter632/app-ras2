{
 "cells": [
  {
   "cell_type": "code",
   "execution_count": 1,
   "id": "b8bece21-9ec3-4967-b77f-ed3cff67ae06",
   "metadata": {},
   "outputs": [],
   "source": [
    "import os\n",
    "import random\n",
    "import shutil"
   ]
  },
  {
   "cell_type": "code",
   "execution_count": 2,
   "id": "35adcba8-3897-4408-928e-035b7533b1e0",
   "metadata": {},
   "outputs": [],
   "source": [
    "files = os.listdir('../training_data_new/')"
   ]
  },
  {
   "cell_type": "code",
   "execution_count": 3,
   "id": "2205ac9d-c797-415e-8096-d75e2920a376",
   "metadata": {},
   "outputs": [
    {
     "data": {
      "text/plain": [
       "20750"
      ]
     },
     "execution_count": 3,
     "metadata": {},
     "output_type": "execute_result"
    }
   ],
   "source": [
    "len(files)"
   ]
  },
  {
   "cell_type": "code",
   "execution_count": 4,
   "id": "29a8b355-d690-4f8c-856f-4b9ed4390894",
   "metadata": {},
   "outputs": [],
   "source": [
    "test_size = int(len(files) * 0.1)"
   ]
  },
  {
   "cell_type": "code",
   "execution_count": 5,
   "id": "8ce6753b-316e-4480-9271-befb64a29e89",
   "metadata": {},
   "outputs": [
    {
     "data": {
      "text/plain": [
       "2075"
      ]
     },
     "execution_count": 5,
     "metadata": {},
     "output_type": "execute_result"
    }
   ],
   "source": [
    "test_size"
   ]
  },
  {
   "cell_type": "code",
   "execution_count": 6,
   "id": "c71ae54a-423f-4df5-aa20-23df2805b64d",
   "metadata": {},
   "outputs": [],
   "source": [
    "val_size = int(len(files) * .2)"
   ]
  },
  {
   "cell_type": "code",
   "execution_count": 7,
   "id": "7deba51b-fcb6-435a-b10a-129c77210b3c",
   "metadata": {},
   "outputs": [
    {
     "data": {
      "text/plain": [
       "4150"
      ]
     },
     "execution_count": 7,
     "metadata": {},
     "output_type": "execute_result"
    }
   ],
   "source": [
    "val_size"
   ]
  },
  {
   "cell_type": "code",
   "execution_count": 8,
   "id": "aab1a52c-d817-4b43-8285-9c13e87bb8a0",
   "metadata": {},
   "outputs": [],
   "source": [
    "random.shuffle(files)"
   ]
  },
  {
   "cell_type": "code",
   "execution_count": 9,
   "id": "097c35f2-336b-4fdd-b76c-35f95def2e91",
   "metadata": {},
   "outputs": [],
   "source": [
    "for f in files[:test_size]:\n",
    "    shutil.move(f'../training_data_new/{f}', 'test_data2/')"
   ]
  },
  {
   "cell_type": "code",
   "execution_count": 10,
   "id": "151147b3-d677-412a-bef8-2ab591c9cf6b",
   "metadata": {},
   "outputs": [],
   "source": [
    "for f in files[test_size:test_size+val_size]:\n",
    "    shutil.move(f'../training_data_new/{f}', 'val_data2/')"
   ]
  },
  {
   "cell_type": "code",
   "execution_count": null,
   "id": "ed5ce9d5-9823-4606-92a7-3c1fdc09b2b6",
   "metadata": {},
   "outputs": [],
   "source": [
    "for f in files[test_size+val_size:]:\n",
    "    shutil.move(f'../training_data_new/{f}', 'train_data2/')"
   ]
  }
 ],
 "metadata": {
  "kernelspec": {
   "display_name": "Python 3",
   "language": "python",
   "name": "python3"
  },
  "language_info": {
   "codemirror_mode": {
    "name": "ipython",
    "version": 3
   },
   "file_extension": ".py",
   "mimetype": "text/x-python",
   "name": "python",
   "nbconvert_exporter": "python",
   "pygments_lexer": "ipython3",
   "version": "3.8.8"
  }
 },
 "nbformat": 4,
 "nbformat_minor": 5
}
